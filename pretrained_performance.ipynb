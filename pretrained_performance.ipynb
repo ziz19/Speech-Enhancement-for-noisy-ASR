{
 "cells": [
  {
   "cell_type": "code",
   "execution_count": 5,
   "metadata": {
    "collapsed": true
   },
   "outputs": [],
   "source": [
    "\n",
    "import torch\n",
    "from speechbrain.pretrained import EncoderDecoderASR\n",
    "\n",
    "\n",
    "# configure data path\n",
    "train_metadata_filepath = \"D:\\LibriMix\\data\\Libri1Mix\\wav8k\\min\\metadata\\mixture_libri2mix_train-100_mix_single.csv\"\n",
    "dev_metadata_filepath = \"D:\\LibriMix\\data\\Libri1Mix\\wav8k\\min\\metadata\\mixture_libri2mix_dev_mix_single.csv\"\n",
    "test_metadata_filepath = \"D:\\LibriMix\\data\\Libri1Mix\\wav8k\\min\\metadata\\mixture_libri2mix_test_mix_single.csv\"\n",
    "\n",
    "# load pretrained model\n",
    "run_opts = {\"device\": \"cuda:0\" if torch.cuda.is_available() else \"cpu\"}\n",
    "asr_model = EncoderDecoderASR.from_hparams(source=\"speechbrain/asr-crdnn-rnnlm-librispeech\",\n",
    "                                           savedir=\"./pretrained_ASR\", run_opts=run_opts)"
   ]
  },
  {
   "cell_type": "code",
   "execution_count": 6,
   "outputs": [
    {
     "name": "stdout",
     "output_type": "stream",
     "text": [
      "[============================================================] 100.0% ...\r\n",
      "43.80766651047766\n"
     ]
    }
   ],
   "source": [
    "import sys\n",
    "import pandas as pd\n",
    "from wer import wer\n",
    "\n",
    "\n",
    "def progress(count, total, status=''):\n",
    "    bar_len = 60\n",
    "    filled_len = int(round(bar_len * count / float(total)))\n",
    "\n",
    "    percents = round(100.0 * count / float(total), 1)\n",
    "    bar = '=' * filled_len + '-' * (bar_len - filled_len)\n",
    "\n",
    "    sys.stdout.write('[%s] %s%s ...%s\\r' % (bar, percents, '%', status))\n",
    "    sys.stdout.flush()\n",
    "\n",
    "\n",
    "test_metadata = pd.read_csv(test_metadata_filepath)\n",
    "errors = []\n",
    "for row in test_metadata.iterrows():\n",
    "    progress(row[0], test_metadata.shape[0])\n",
    "    test_sample = row[1]\n",
    "    hypothesis = asr_model.transcribe_file(test_sample['mixture_path'])\n",
    "    errors.append(wer(test_sample['transcript'].split(), hypothesis.split()))\n",
    "print()\n",
    "print(sum(errors) / len(errors))"
   ],
   "metadata": {
    "collapsed": false,
    "pycharm": {
     "name": "#%%\n"
    }
   }
  }
 ],
 "metadata": {
  "kernelspec": {
   "name": "dlenv",
   "language": "python",
   "display_name": "dlenv"
  },
  "language_info": {
   "codemirror_mode": {
    "name": "ipython",
    "version": 2
   },
   "file_extension": ".py",
   "mimetype": "text/x-python",
   "name": "python",
   "nbconvert_exporter": "python",
   "pygments_lexer": "ipython2",
   "version": "2.7.6"
  }
 },
 "nbformat": 4,
 "nbformat_minor": 0
}